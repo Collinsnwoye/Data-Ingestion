{
  "nbformat": 4,
  "nbformat_minor": 0,
  "metadata": {
    "colab": {
      "provenance": [],
      "authorship_tag": "ABX9TyNIic/dhMjTlget7h//MPTq",
      "include_colab_link": true
    },
    "kernelspec": {
      "name": "python3",
      "display_name": "Python 3"
    },
    "language_info": {
      "name": "python"
    }
  },
  "cells": [
    {
      "cell_type": "markdown",
      "metadata": {
        "id": "view-in-github",
        "colab_type": "text"
      },
      "source": [
        "<a href=\"https://colab.research.google.com/github/Collinsnwoye/Data-Ingestion/blob/main/Untitled1.ipynb\" target=\"_parent\"><img src=\"https://colab.research.google.com/assets/colab-badge.svg\" alt=\"Open In Colab\"/></a>"
      ]
    },
    {
      "cell_type": "markdown",
      "source": [
        "#Synthetic Data Transformation!\n",
        "-------\n",
        "This example demonstrates a basic ETL(Extract, Transform, Load) using Fakers library in Python. It generates data by replicating the statistical properties of actual data without the accurate data’s\n",
        "identifying properties(Fakers library), applies a simple transformation specifically to each reocrds phone number, and loads the results into a Pandas DataFrame display.\n",
        "\n",
        "##Below is a high-level overview of the key functions used in this ETL pipeline:\n",
        "\n",
        "* pip install Faker\n",
        "  Not included in the Python Standard Library, then you install.\n",
        "\n",
        "* generate_fake_people()\n",
        "  Creates a list of synthetic data, each with a fake id and more. This simulates incoming raw data.\n",
        "\n",
        "* transform_data(batch)\n",
        "  Transform each records Phone_number to a specific country code(UK) by filtering the numbers and joinin the requierd code(+44)\n",
        "\n",
        "* (Transforming into batches won't be needed cuase the data is a relatively small amount)\n",
        "\n",
        "* load_data(batch)\n",
        "Simulates loading all the transformed records into a database(in this case, a Pandas DataFrame).\n",
        "\n",
        "* main()\n",
        "  Orchestrates the ETL flow: generates_data, transforms_data, and load_data it.\n",
        "\n",
        "  ------\n",
        "\n",
        "  # Installing Faker Library.\n"
      ],
      "metadata": {
        "id": "Q2z7El1OG3xT"
      }
    },
    {
      "cell_type": "code",
      "source": [
        "pip install faker"
      ],
      "metadata": {
        "colab": {
          "base_uri": "https://localhost:8080/"
        },
        "id": "9ZsXDNmlrNVk",
        "outputId": "de00b79b-2a90-4930-b6e3-8f10009f49e2",
        "collapsed": true
      },
      "execution_count": 2,
      "outputs": [
        {
          "output_type": "stream",
          "name": "stdout",
          "text": [
            "Collecting faker\n",
            "  Downloading faker-37.4.0-py3-none-any.whl.metadata (15 kB)\n",
            "Requirement already satisfied: tzdata in /usr/local/lib/python3.11/dist-packages (from faker) (2025.2)\n",
            "Downloading faker-37.4.0-py3-none-any.whl (1.9 MB)\n",
            "\u001b[2K   \u001b[90m━━━━━━━━━━━━━━━━━━━━━━━━━━━━━━━━━━━━━━━━\u001b[0m \u001b[32m1.9/1.9 MB\u001b[0m \u001b[31m21.2 MB/s\u001b[0m eta \u001b[36m0:00:00\u001b[0m\n",
            "\u001b[?25hInstalling collected packages: faker\n",
            "Successfully installed faker-37.4.0\n"
          ]
        }
      ]
    },
    {
      "cell_type": "markdown",
      "source": [
        "#### It installs the Faker Library to a temporary runtime environment. It’s available immediately, but it won’t persist after the session ends unless you re-run the install.\n",
        "\n",
        "-------\n",
        "# Generate Synthetic Data Function"
      ],
      "metadata": {
        "id": "sKYdCL477XN9"
      }
    },
    {
      "cell_type": "code",
      "source": [
        "from faker import Faker\n",
        "\n",
        "fake = Faker()\n",
        "def generate_fake_people():\n",
        "    fake_people = []\n",
        "\n",
        "    for i in range(100):\n",
        "        person = {\n",
        "            \"Full_name\": fake.name(),\n",
        "            \"Phone_number\": fake.phone_number(),\n",
        "            \"Email_address\": fake.email(),\n",
        "            \"Job_title\": fake.job(),\n",
        "            \"City\": fake.city()\n",
        "        }\n",
        "        fake_people.append(person)\n",
        "\n",
        "    return fake_people\n",
        "\n",
        "people_data = generate_fake_people()\n",
        "\n",
        "for person in people_data[:20]:\n",
        "    print(person)"
      ],
      "metadata": {
        "colab": {
          "base_uri": "https://localhost:8080/"
        },
        "collapsed": true,
        "id": "URpottQqsH8P",
        "outputId": "6219e8d6-b397-4e9e-86b3-d42bb8571520"
      },
      "execution_count": 3,
      "outputs": [
        {
          "output_type": "stream",
          "name": "stdout",
          "text": [
            "{'Full_name': 'John Sandoval', 'Phone_number': '796.951.9582', 'Email_address': 'aaron31@example.org', 'Job_title': 'Diplomatic Services operational officer', 'City': 'Vincentberg'}\n",
            "{'Full_name': 'Douglas Williams', 'Phone_number': '001-265-588-4332x93626', 'Email_address': 'ronaldjohnson@example.org', 'Job_title': 'Osteopath', 'City': 'North Williamberg'}\n",
            "{'Full_name': 'Marcus Thomas', 'Phone_number': '906-289-0392', 'Email_address': 'clintonwhite@example.com', 'Job_title': 'Diplomatic Services operational officer', 'City': 'Brianland'}\n",
            "{'Full_name': 'Sherri Thompson', 'Phone_number': '001-281-619-0244x21004', 'Email_address': 'casey05@example.net', 'Job_title': 'Geochemist', 'City': 'Savannahmouth'}\n",
            "{'Full_name': 'Ashley Scott', 'Phone_number': '673.839.8759', 'Email_address': 'sschultz@example.com', 'Job_title': 'Administrator, education', 'City': 'Mitchellfurt'}\n",
            "{'Full_name': 'Brett Vang', 'Phone_number': '+1-565-992-3369x5505', 'Email_address': 'andersonjoshua@example.net', 'Job_title': 'Insurance broker', 'City': 'East Matthew'}\n",
            "{'Full_name': 'Jeremy Benitez', 'Phone_number': '(840)673-8457', 'Email_address': 'xmiller@example.org', 'Job_title': 'Armed forces technical officer', 'City': 'Wilsonchester'}\n",
            "{'Full_name': 'Charles Contreras', 'Phone_number': '(696)693-4370x97394', 'Email_address': 'josephfreeman@example.net', 'Job_title': 'Diagnostic radiographer', 'City': 'Moorebury'}\n",
            "{'Full_name': 'Katherine Smith', 'Phone_number': '001-251-655-9072x352', 'Email_address': 'ashleydaugherty@example.com', 'Job_title': 'Acupuncturist', 'City': 'Davidton'}\n",
            "{'Full_name': 'Max Smith', 'Phone_number': '653-765-2661', 'Email_address': 'barnesrobert@example.com', 'Job_title': 'Hydrologist', 'City': 'New Thomas'}\n",
            "{'Full_name': 'Ashley Duncan', 'Phone_number': '6169142937', 'Email_address': 'johnathanfrancis@example.org', 'Job_title': 'Risk manager', 'City': 'Wolfestad'}\n",
            "{'Full_name': 'Jennifer Miller', 'Phone_number': '001-876-947-6450x9522', 'Email_address': 'lopezcheryl@example.net', 'Job_title': 'Clinical scientist, histocompatibility and immunogenetics', 'City': 'Williamchester'}\n",
            "{'Full_name': 'Patricia Norton', 'Phone_number': '885-896-8834x56828', 'Email_address': 'fhaney@example.org', 'Job_title': 'Teacher, secondary school', 'City': 'Feliciatown'}\n",
            "{'Full_name': 'Amanda Gutierrez', 'Phone_number': '001-920-797-6330', 'Email_address': 'laurenmorales@example.net', 'Job_title': 'Physicist, medical', 'City': 'Mathewsland'}\n",
            "{'Full_name': 'Donald Ponce', 'Phone_number': '(311)704-8011', 'Email_address': 'richard37@example.net', 'Job_title': 'Advice worker', 'City': 'East Stephanie'}\n",
            "{'Full_name': 'Robert Miller', 'Phone_number': '+1-638-582-6966x40432', 'Email_address': 'isilva@example.net', 'Job_title': 'Minerals surveyor', 'City': 'Joshuaside'}\n",
            "{'Full_name': 'April Lester', 'Phone_number': '854-251-2900', 'Email_address': 'stewartmegan@example.net', 'Job_title': 'Education officer, environmental', 'City': 'South Jennifer'}\n",
            "{'Full_name': 'Anthony Jones', 'Phone_number': '915.413.7430', 'Email_address': 'emily83@example.org', 'Job_title': 'Cartographer', 'City': 'Port Robertfurt'}\n",
            "{'Full_name': 'Amy Gray', 'Phone_number': '(233)816-7842x77700', 'Email_address': 'adrian75@example.com', 'Job_title': 'Therapeutic radiographer', 'City': 'East Christine'}\n",
            "{'Full_name': 'Shelly Smith', 'Phone_number': '(578)251-4919', 'Email_address': 'eddiemoore@example.org', 'Job_title': 'Tax adviser', 'City': 'Caldwellmouth'}\n"
          ]
        }
      ]
    },
    {
      "cell_type": "markdown",
      "source": [
        "#### Design Considerations for Synthetic Data Generator Function: When building a function to generate sample data, it’s important to consider structure, flexibility, and practical processing needs. Here's a breakdown of the design choices we made:\n",
        "\n",
        "1. Data Structure Choice : Each data record is represented as a Python dictionary, storing key-value pairs. This mirrors tabular data with named columns, making records self-describing and easy to manipulate or convert.\n",
        "\n",
        "2. Using a List as a Container : All generated records are stored in a list, which maintains order and facilitates iteration, slicing, and crucial for downstream tasks like transformation or loading.\n",
        "\n",
        "3. Record Generation Loop : A simple for loop runs for the requested number of records, appending newly created dictionaries to the list, progressively building the dataset.\n",
        "\n",
        "4. Function Purpose This function acts as a lightweight simulated data source, useful for testing data pipelines, and experimenting with transformation logic without relying on external databases.\n",
        "\n",
        "------\n",
        "\n",
        "# Transform Data Function"
      ],
      "metadata": {
        "id": "GRrM3xne8XxM"
      }
    },
    {
      "cell_type": "markdown",
      "source": [],
      "metadata": {
        "id": "hcfigGXz6y7O"
      }
    },
    {
      "cell_type": "code",
      "source": [
        "import re\n",
        "\n",
        "def standardize_phone_numbers(data):\n",
        "    for person in data:\n",
        "        raw_phone = person[\"Phone_number\"]\n",
        "\n",
        "        digits_only = re.sub(r'\\D', '', raw_phone)\n",
        "\n",
        "        if digits_only.startswith('44'):\n",
        "            digits_only = digits_only[2:]\n",
        "        elif digits_only.startswith('0'):\n",
        "            digits_only = digits_only[1:]\n",
        "        elif digits_only.startswith('234'):\n",
        "            digits_only = digits_only[3:]\n",
        "        elif digits_only.startswith('00'):\n",
        "            digits_only = digits_only[2:]\n",
        "\n",
        "        digits_only = digits_only[:10].zfill(10)\n",
        "        person[\"Phone_number\"] = '+44' + digits_only\n",
        "\n",
        "    return data\n",
        "people_data = standardize_phone_numbers(people_data)\n",
        "\n",
        "for person in people_data[:20]:\n",
        "    print(person[\"Phone_number\"])"
      ],
      "metadata": {
        "colab": {
          "base_uri": "https://localhost:8080/"
        },
        "collapsed": true,
        "id": "e1Jfb2c5zoZK",
        "outputId": "b698d355-3885-45e5-c533-9b5880c24060"
      },
      "execution_count": 4,
      "outputs": [
        {
          "output_type": "stream",
          "name": "stdout",
          "text": [
            "+447969519582\n",
            "+440126558843\n",
            "+449062890392\n",
            "+440128161902\n",
            "+446738398759\n",
            "+441565992336\n",
            "+448406738457\n",
            "+446966934370\n",
            "+440125165590\n",
            "+446537652661\n",
            "+446169142937\n",
            "+440187694764\n",
            "+448858968834\n",
            "+440192079763\n",
            "+443117048011\n",
            "+441638582696\n",
            "+448542512900\n",
            "+449154137430\n",
            "+442338167842\n",
            "+445782514919\n"
          ]
        }
      ]
    },
    {
      "cell_type": "markdown",
      "source": [
        "#### Design Considerations for transform data Function:\n",
        "\n",
        "### For Loop Iteration : Works on each record in an orderly manner while it simultaneously removes all non digit characters using a regular expression.\n",
        "\n",
        "### Calculated removal of known prefixes-such as country codes or leading zeros-to isolate the core number.\n",
        "\n",
        "### Finally, it trims or pads the number to enusre it's exactly 10 digits long, and prepends the uk country code +44 for standardization.\n",
        "\n",
        "---------\n",
        "\n",
        " # Load Data Function\n",
        ""
      ],
      "metadata": {
        "id": "rZzSUrlVCPet"
      }
    },
    {
      "cell_type": "code",
      "source": [
        "import pandas as pd\n",
        "\n",
        "def load_data(fake_people, filename=\"fake_people_data.csv\", index=False, encoding=\"utf-8\"):\n",
        "    df = pd.DataFrame(fake_people)\n",
        "\n",
        "    df.to_csv(\"fake_people_data.csv\", index=False, encoding=\"utf-8\")\n",
        "\n",
        "    return df\n",
        "df_people = load_data(people_data)\n",
        "\n",
        "print(df_people.head(20))"
      ],
      "metadata": {
        "colab": {
          "base_uri": "https://localhost:8080/"
        },
        "collapsed": true,
        "id": "KLkIRx6J9TY_",
        "outputId": "f890a8b9-f85f-4400-9f9a-73b6141040b5"
      },
      "execution_count": 5,
      "outputs": [
        {
          "output_type": "stream",
          "name": "stdout",
          "text": [
            "            Full_name   Phone_number                 Email_address  \\\n",
            "0       John Sandoval  +447969519582           aaron31@example.org   \n",
            "1    Douglas Williams  +440126558843     ronaldjohnson@example.org   \n",
            "2       Marcus Thomas  +449062890392      clintonwhite@example.com   \n",
            "3     Sherri Thompson  +440128161902           casey05@example.net   \n",
            "4        Ashley Scott  +446738398759          sschultz@example.com   \n",
            "5          Brett Vang  +441565992336    andersonjoshua@example.net   \n",
            "6      Jeremy Benitez  +448406738457           xmiller@example.org   \n",
            "7   Charles Contreras  +446966934370     josephfreeman@example.net   \n",
            "8     Katherine Smith  +440125165590   ashleydaugherty@example.com   \n",
            "9           Max Smith  +446537652661      barnesrobert@example.com   \n",
            "10      Ashley Duncan  +446169142937  johnathanfrancis@example.org   \n",
            "11    Jennifer Miller  +440187694764       lopezcheryl@example.net   \n",
            "12    Patricia Norton  +448858968834            fhaney@example.org   \n",
            "13   Amanda Gutierrez  +440192079763     laurenmorales@example.net   \n",
            "14       Donald Ponce  +443117048011         richard37@example.net   \n",
            "15      Robert Miller  +441638582696            isilva@example.net   \n",
            "16       April Lester  +448542512900      stewartmegan@example.net   \n",
            "17      Anthony Jones  +449154137430           emily83@example.org   \n",
            "18           Amy Gray  +442338167842          adrian75@example.com   \n",
            "19       Shelly Smith  +445782514919        eddiemoore@example.org   \n",
            "\n",
            "                                            Job_title               City  \n",
            "0             Diplomatic Services operational officer        Vincentberg  \n",
            "1                                           Osteopath  North Williamberg  \n",
            "2             Diplomatic Services operational officer          Brianland  \n",
            "3                                          Geochemist      Savannahmouth  \n",
            "4                            Administrator, education       Mitchellfurt  \n",
            "5                                    Insurance broker       East Matthew  \n",
            "6                      Armed forces technical officer      Wilsonchester  \n",
            "7                             Diagnostic radiographer          Moorebury  \n",
            "8                                       Acupuncturist           Davidton  \n",
            "9                                         Hydrologist         New Thomas  \n",
            "10                                       Risk manager          Wolfestad  \n",
            "11  Clinical scientist, histocompatibility and imm...     Williamchester  \n",
            "12                          Teacher, secondary school        Feliciatown  \n",
            "13                                 Physicist, medical        Mathewsland  \n",
            "14                                      Advice worker     East Stephanie  \n",
            "15                                  Minerals surveyor         Joshuaside  \n",
            "16                   Education officer, environmental     South Jennifer  \n",
            "17                                       Cartographer    Port Robertfurt  \n",
            "18                           Therapeutic radiographer     East Christine  \n",
            "19                                        Tax adviser      Caldwellmouth  \n"
          ]
        }
      ]
    },
    {
      "cell_type": "markdown",
      "source": [
        "### Design Considerations for load data Function:\n",
        "\n",
        "1. Structured Output with Pandas DataFrame The function converts the list of transformed records into a pandas.DataFrame, creating a structured, tabular representation of the data. This format is widely used in data workflows for its flexibility and powerful analysis capabilities.\n",
        "\n",
        "2. Data Persistence via CSV Export The function saves the DataFrame to a CSV file using df.to_csv(). This makes the data portable and easy to inspect, share, or feed into other tools and systems. Using index=False avoids writing the DataFrame's row index as a column in the CSV, keeping the file clean.\n",
        "\n",
        "3. Function Return Value After saving, the function returns the DataFrame, allowing further use in our process (e.g., visualization, validation, or further transformation).\n",
        "\n",
        "-------\n",
        "\n",
        "# The Main Function\n",
        "\n"
      ],
      "metadata": {
        "id": "Tp2u99P7EgP7"
      }
    },
    {
      "cell_type": "code",
      "source": [
        "def main():\n",
        "    num_records = 100\n",
        "    data = generate_fake_people()\n",
        "    processed_data = standardize_phone_numbers(data)\n",
        "    df = load_data(people_data, \"fake_people_data.csv\", index=False, encoding=\"utf-8\")\n",
        "\n",
        "    print(\"Data processing complete. The processed data is saved in fake_data.csv.\")\n",
        "    return df\n",
        "\n",
        "if __name__ == \"__main__\":\n",
        "    main()\n"
      ],
      "metadata": {
        "colab": {
          "base_uri": "https://localhost:8080/"
        },
        "id": "dVIW9zaF248O",
        "outputId": "429c69b8-68b1-4ffe-bb03-cecc6f370dcd"
      },
      "execution_count": 6,
      "outputs": [
        {
          "output_type": "stream",
          "name": "stdout",
          "text": [
            "Data processing complete. The processed data is saved in fake_data.csv.\n"
          ]
        }
      ]
    },
    {
      "cell_type": "markdown",
      "source": [
        "### Design Considerations for main Function:\n",
        "\n",
        "1. Pipeline Coordination The main() function serves as the central controller for the ETL (Extract → Transform → Load) process. It organizes the execution flow, making the script modular, readable, and maintainable.\n",
        "\n",
        "2. Final Loading Step Once all data is transformed, whole_data is passed to load_data() for conversion to a structured format (DataFrame) and optional persistence (e.g., to CSV). Returning the DataFrame allows flexibility for downstream tasks like visualization or further processing.\n",
        "\n",
        "### Final Consideration: By delegating each step to its own function (generate_sample_data, process_data, transform_data, load_data), main() promotes a clean and modular design. This makes the codebase easier to test, debug, and scale.\n"
      ],
      "metadata": {
        "id": "DHqKehzrFgrr"
      }
    }
  ]
}